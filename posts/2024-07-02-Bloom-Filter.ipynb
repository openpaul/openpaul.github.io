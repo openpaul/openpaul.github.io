{
 "cells": [
  {
   "cell_type": "raw",
   "metadata": {
    "vscode": {
     "languageId": "raw"
    }
   },
   "source": [
    "+++\n",
    "title = 'Bloom Filter from Scratch'\n",
    "date = 2024-07-02T08:00:00+00:00\n",
    "draft = false\n",
    "+++"
   ]
  },
  {
   "cell_type": "markdown",
   "metadata": {},
   "source": [
    "Today I want to implement a very simple bloom filter from scratch. Simply to explore what the challenges are and how far I can get. \n",
    "\n",
    "Bloom filters are cool probabilistic data structures that can quickly tell you if you've seen a datapoint before. It has false positives but no false negatives. Wikipedia phrases it as: 'in other words, a query returns either \"possibly in set\" or \"definitely not in set\".', which is a very nice way of phrasing it. \n",
    "\n",
    "In the era of machine learning bloom filters could for example be used to deduplicate large datasets. In the case of large protein databases for example, while one will lose some unique protein sequences, it is guaranteed that the final set of protein sequences is unique and the memory demand of a bloom filter is constant.This means that even the largest datasets can be processed with consistent memory usage.\n",
    "\n",
    "As such, bloom filters are a useful tool that should not be missing from any bioinformatician's toolkit.\n"
   ]
  },
  {
   "cell_type": "code",
   "execution_count": 1,
   "metadata": {},
   "outputs": [],
   "source": [
    "import hashlib\n",
    "import math\n",
    "\n",
    "\n",
    "class BloomFilter:\n",
    "    def __init__(\n",
    "        self,\n",
    "        maximum_elements: int,\n",
    "        false_positive: float = 0.001,\n",
    "    ):\n",
    "        # Compare https://en.wikipedia.org/wiki/Bloom_filter\n",
    "        # Calculate the size of the bit array (m)\n",
    "        n = maximum_elements\n",
    "        e = false_positive\n",
    "        m = -(n * math.log(e)) / (math.log(2) ** 2)\n",
    "        # Calculate the number of hash functions (k)\n",
    "        k = math.ceil((m / n) * math.log(2))\n",
    "\n",
    "        self.size = math.ceil(m)\n",
    "        self.hash_count = math.ceil(k)\n",
    "\n",
    "        if self.size < 0:\n",
    "            raise ValueError(\"Bloom filter too small: {self.size}\")\n",
    "\n",
    "        if self.hash_count < 1:\n",
    "            raise ValueError(f\"Too few hashes: {self.hash_count}\")\n",
    "\n",
    "        # My \"bit array\" is a list of booleans\n",
    "        self.bit_array = [False] * self.size\n",
    "\n",
    "    def _hashes(self, element: str):\n",
    "        for i in range(self.hash_count):\n",
    "            hash = (\n",
    "                int(\n",
    "                    hashlib.sha256(f\"{i}_{element}\".encode()).hexdigest(),\n",
    "                    16,\n",
    "                )\n",
    "                % self.size\n",
    "            )\n",
    "            yield hash\n",
    "\n",
    "    def add(self, element: str):\n",
    "        for index in self._hashes(element):\n",
    "            self.bit_array[index] = True\n",
    "\n",
    "    def contains(self, element: str):\n",
    "        for index in self._hashes(element):\n",
    "            if self.bit_array[index] is False:\n",
    "                return False\n",
    "        return True"
   ]
  },
  {
   "cell_type": "markdown",
   "metadata": {},
   "source": [
    "This is a very simple implementation. There is a bit of math behind calculating the size of the bit-array (here simply a list of booleans) from the maximum number of expected elements and the tolerated false positive rate. But besides this, the implementation is very simple. \n",
    "\n",
    "To check if a word has been seen before, one checks if all hashes derived from that word have a positive bit in the bit array. If a single bit is not true, one can be certain that this word has never been seen this before. If all are true, one might have seen the word before, but maybe not.\n",
    "\n",
    "\n",
    "My implementation can be speed up by using the 'bitarray' library of python and by using a faster hashing function. But for understanding how Bloom filters work I prefer this simple approach. \n",
    "\n",
    "Let's see this code in action. I am adding a few words to a small bloom filter and show that words I added are known, while new words are not known:"
   ]
  },
  {
   "cell_type": "code",
   "execution_count": 2,
   "metadata": {},
   "outputs": [
    {
     "name": "stdout",
     "output_type": "stream",
     "text": [
      "I might have seen 'Bloom filter' before\n",
      "I am sure I have never seen 'volcano' before\n"
     ]
    }
   ],
   "source": [
    "bf = BloomFilter(maximum_elements=1000, false_positive=0.001)\n",
    "\n",
    "words = [\n",
    "    \"Hello\",\n",
    "    \"World\",\n",
    "    \"this\",\n",
    "    \"is\",\n",
    "    \"a\",\n",
    "    \"Bloom filter\",\n",
    "]\n",
    "for word in words:\n",
    "    bf.add(word)\n",
    "\n",
    "for word in [\"Bloom filter\", \"volcano\"]:\n",
    "    if bf.contains(word):\n",
    "        print(f\"I might have seen '{word}' before\")\n",
    "    else:\n",
    "        print(f\"I am sure I have never seen '{word}' before\")"
   ]
  },
  {
   "cell_type": "markdown",
   "metadata": {},
   "source": [
    "I want to see how the bit array gets filled up. So here I am adding values and after each value I the new bit array. For simplicity I choose the size in such a way that I have a bit array of length 19 and use 5 hash functions."
   ]
  },
  {
   "cell_type": "code",
   "execution_count": 3,
   "metadata": {},
   "outputs": [
    {
     "name": "stdout",
     "output_type": "stream",
     "text": [
      "Bit array is 32 positions long\n",
      "Each word will flip 5 positions to true if not already true\n",
      "  0 ________________________________\n",
      "  5 __X_____________XX_____XX_______\n",
      " 10 _XX_____________XX___X_XX__X_XX_\n",
      " 12 _XX__X__________XX___X_XX__XXXX_\n",
      " 16 _XX__X___X__X___XX_X_X_XX__XXXXX\n",
      " 19 _XX_XX___X_XX_X_XX_X_X_XX__XXXXX\n"
     ]
    }
   ],
   "source": [
    "def print_bitarray(bf: BloomFilter):\n",
    "    visualization = \"\".join([\"X\" if x else \"_\" for x in bf.bit_array])\n",
    "    print(f\"{sum(bf.bit_array):>3} {visualization}\")\n",
    "\n",
    "\n",
    "bf = BloomFilter(maximum_elements=5, false_positive=0.05)\n",
    "\n",
    "print(f\"Bit array is {len(bf.bit_array)} positions long\")\n",
    "print(\n",
    "    f\"Each word will flip {bf.hash_count} positions to true if not already true\"\n",
    ")\n",
    "\n",
    "# Adding the elements\n",
    "print_bitarray(bf)\n",
    "for i in range(5):\n",
    "    bf.add(f\"Word_{str(i)}\")\n",
    "    print_bitarray(bf)"
   ]
  },
  {
   "cell_type": "markdown",
   "metadata": {},
   "source": [
    "In this example it is nicely visible that bits are flipped to true (X) and once flipped, are never flipped back. This also provides an intuitive understanding as to why one has to specify the expected number of elements during the creation of the Bloom filter.\n",
    "\n",
    "That's all I have for today. There are several advanced uses of Bloom filters in bioinformatics, it's fun to read the Bloom filters in Bioinformatics Wikipedia page: [https://en.wikipedia.org/wiki/Bloom_filters_in_bioinformatics](https://en.wikipedia.org/wiki/Bloom_filters_in_bioinformatics)"
   ]
  }
 ],
 "metadata": {
  "kernelspec": {
   "display_name": "reproduce_hic",
   "language": "python",
   "name": "python3"
  },
  "language_info": {
   "codemirror_mode": {
    "name": "ipython",
    "version": 3
   },
   "file_extension": ".py",
   "mimetype": "text/x-python",
   "name": "python",
   "nbconvert_exporter": "python",
   "pygments_lexer": "ipython3",
   "version": "3.11.0"
  }
 },
 "nbformat": 4,
 "nbformat_minor": 2
}
